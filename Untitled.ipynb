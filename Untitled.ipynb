{
 "cells": [
  {
   "cell_type": "code",
   "execution_count": 362,
   "metadata": {},
   "outputs": [],
   "source": [
    "import pandas as pd"
   ]
  },
  {
   "cell_type": "code",
   "execution_count": 363,
   "metadata": {},
   "outputs": [],
   "source": [
    "data = pd.read_csv(\"./Year_Released Title and Metacritic Rating.csv\")\n",
    "imdb_db = pd.read_csv('./imdb_db.csv')"
   ]
  },
  {
   "cell_type": "code",
   "execution_count": 364,
   "metadata": {},
   "outputs": [],
   "source": [
    "imdb_db = imdb_db[['primaryTitle','averageRating','startYear']]\n",
    "imdb_db = pd.DataFrame(imdb_db)\n",
    "imdb_db.columns = ['Title','Imdb Rating','Year']"
   ]
  },
  {
   "cell_type": "code",
   "execution_count": 365,
   "metadata": {},
   "outputs": [
    {
     "data": {
      "text/html": [
       "<div>\n",
       "<style scoped>\n",
       "    .dataframe tbody tr th:only-of-type {\n",
       "        vertical-align: middle;\n",
       "    }\n",
       "\n",
       "    .dataframe tbody tr th {\n",
       "        vertical-align: top;\n",
       "    }\n",
       "\n",
       "    .dataframe thead th {\n",
       "        text-align: right;\n",
       "    }\n",
       "</style>\n",
       "<table border=\"1\" class=\"dataframe\">\n",
       "  <thead>\n",
       "    <tr style=\"text-align: right;\">\n",
       "      <th></th>\n",
       "      <th>Title</th>\n",
       "      <th>Year</th>\n",
       "      <th>Metacritic Rating</th>\n",
       "    </tr>\n",
       "  </thead>\n",
       "  <tbody>\n",
       "    <tr>\n",
       "      <th>0</th>\n",
       "      <td>Citizen Kane</td>\n",
       "      <td>1941</td>\n",
       "      <td>100</td>\n",
       "    </tr>\n",
       "    <tr>\n",
       "      <th>1</th>\n",
       "      <td>The Godfather</td>\n",
       "      <td>1972</td>\n",
       "      <td>100</td>\n",
       "    </tr>\n",
       "    <tr>\n",
       "      <th>2</th>\n",
       "      <td>Rear Window</td>\n",
       "      <td>1954</td>\n",
       "      <td>100</td>\n",
       "    </tr>\n",
       "    <tr>\n",
       "      <th>3</th>\n",
       "      <td>Casablanca</td>\n",
       "      <td>1943</td>\n",
       "      <td>100</td>\n",
       "    </tr>\n",
       "    <tr>\n",
       "      <th>4</th>\n",
       "      <td>Boyhood</td>\n",
       "      <td>2014</td>\n",
       "      <td>100</td>\n",
       "    </tr>\n",
       "  </tbody>\n",
       "</table>\n",
       "</div>"
      ],
      "text/plain": [
       "           Title  Year  Metacritic Rating\n",
       "0   Citizen Kane  1941                100\n",
       "1  The Godfather  1972                100\n",
       "2    Rear Window  1954                100\n",
       "3     Casablanca  1943                100\n",
       "4        Boyhood  2014                100"
      ]
     },
     "execution_count": 365,
     "metadata": {},
     "output_type": "execute_result"
    }
   ],
   "source": [
    "data.head()"
   ]
  },
  {
   "cell_type": "code",
   "execution_count": 366,
   "metadata": {},
   "outputs": [
    {
     "data": {
      "text/html": [
       "<div>\n",
       "<style scoped>\n",
       "    .dataframe tbody tr th:only-of-type {\n",
       "        vertical-align: middle;\n",
       "    }\n",
       "\n",
       "    .dataframe tbody tr th {\n",
       "        vertical-align: top;\n",
       "    }\n",
       "\n",
       "    .dataframe thead th {\n",
       "        text-align: right;\n",
       "    }\n",
       "</style>\n",
       "<table border=\"1\" class=\"dataframe\">\n",
       "  <thead>\n",
       "    <tr style=\"text-align: right;\">\n",
       "      <th></th>\n",
       "      <th>Title</th>\n",
       "      <th>Year</th>\n",
       "      <th>Metacritic Rating</th>\n",
       "    </tr>\n",
       "  </thead>\n",
       "  <tbody>\n",
       "    <tr>\n",
       "      <th>0</th>\n",
       "      <td>Citizen Kane</td>\n",
       "      <td>1942</td>\n",
       "      <td>100</td>\n",
       "    </tr>\n",
       "    <tr>\n",
       "      <th>1</th>\n",
       "      <td>The Godfather</td>\n",
       "      <td>1973</td>\n",
       "      <td>100</td>\n",
       "    </tr>\n",
       "    <tr>\n",
       "      <th>2</th>\n",
       "      <td>Rear Window</td>\n",
       "      <td>1955</td>\n",
       "      <td>100</td>\n",
       "    </tr>\n",
       "    <tr>\n",
       "      <th>3</th>\n",
       "      <td>Casablanca</td>\n",
       "      <td>1944</td>\n",
       "      <td>100</td>\n",
       "    </tr>\n",
       "    <tr>\n",
       "      <th>4</th>\n",
       "      <td>Boyhood</td>\n",
       "      <td>2015</td>\n",
       "      <td>100</td>\n",
       "    </tr>\n",
       "  </tbody>\n",
       "</table>\n",
       "</div>"
      ],
      "text/plain": [
       "           Title  Year  Metacritic Rating\n",
       "0   Citizen Kane  1942                100\n",
       "1  The Godfather  1973                100\n",
       "2    Rear Window  1955                100\n",
       "3     Casablanca  1944                100\n",
       "4        Boyhood  2015                100"
      ]
     },
     "execution_count": 366,
     "metadata": {},
     "output_type": "execute_result"
    }
   ],
   "source": [
    "data_1plus = data.loc[data['Year'] != 'TBA']\n",
    "data_1plus['Year'] = data_1plus['Year'].astype(int)\n",
    "data_1plus['Year'] = data_1plus['Year'] + 1\n",
    "data_1plus.head()"
   ]
  },
  {
   "cell_type": "code",
   "execution_count": 367,
   "metadata": {},
   "outputs": [],
   "source": [
    "combined_1plus = pd.merge(data_1plus,imdb_db,how='inner',on = ('Title','Year'))"
   ]
  },
  {
   "cell_type": "code",
   "execution_count": 368,
   "metadata": {
    "scrolled": true
   },
   "outputs": [
    {
     "data": {
      "text/plain": [
       "Title                3\n",
       "Year                 3\n",
       "Metacritic Rating    3\n",
       "Imdb Rating          3\n",
       "dtype: int64"
      ]
     },
     "execution_count": 368,
     "metadata": {},
     "output_type": "execute_result"
    }
   ],
   "source": [
    "combined_1plus.count()"
   ]
  },
  {
   "cell_type": "code",
   "execution_count": 369,
   "metadata": {},
   "outputs": [
    {
     "data": {
      "text/html": [
       "<div>\n",
       "<style scoped>\n",
       "    .dataframe tbody tr th:only-of-type {\n",
       "        vertical-align: middle;\n",
       "    }\n",
       "\n",
       "    .dataframe tbody tr th {\n",
       "        vertical-align: top;\n",
       "    }\n",
       "\n",
       "    .dataframe thead th {\n",
       "        text-align: right;\n",
       "    }\n",
       "</style>\n",
       "<table border=\"1\" class=\"dataframe\">\n",
       "  <thead>\n",
       "    <tr style=\"text-align: right;\">\n",
       "      <th></th>\n",
       "      <th>Title</th>\n",
       "      <th>Year</th>\n",
       "      <th>Metacritic Rating</th>\n",
       "    </tr>\n",
       "  </thead>\n",
       "  <tbody>\n",
       "    <tr>\n",
       "      <th>0</th>\n",
       "      <td>Citizen Kane</td>\n",
       "      <td>1943</td>\n",
       "      <td>100</td>\n",
       "    </tr>\n",
       "    <tr>\n",
       "      <th>1</th>\n",
       "      <td>The Godfather</td>\n",
       "      <td>1974</td>\n",
       "      <td>100</td>\n",
       "    </tr>\n",
       "    <tr>\n",
       "      <th>2</th>\n",
       "      <td>Rear Window</td>\n",
       "      <td>1956</td>\n",
       "      <td>100</td>\n",
       "    </tr>\n",
       "    <tr>\n",
       "      <th>3</th>\n",
       "      <td>Casablanca</td>\n",
       "      <td>1945</td>\n",
       "      <td>100</td>\n",
       "    </tr>\n",
       "    <tr>\n",
       "      <th>4</th>\n",
       "      <td>Boyhood</td>\n",
       "      <td>2016</td>\n",
       "      <td>100</td>\n",
       "    </tr>\n",
       "  </tbody>\n",
       "</table>\n",
       "</div>"
      ],
      "text/plain": [
       "           Title  Year  Metacritic Rating\n",
       "0   Citizen Kane  1943                100\n",
       "1  The Godfather  1974                100\n",
       "2    Rear Window  1956                100\n",
       "3     Casablanca  1945                100\n",
       "4        Boyhood  2016                100"
      ]
     },
     "execution_count": 369,
     "metadata": {},
     "output_type": "execute_result"
    }
   ],
   "source": [
    "data_2plus = data.loc[data['Year'] != 'TBA']\n",
    "data_2plus['Year'] = data_2plus['Year'].astype(int)\n",
    "data_2plus['Year'] = data_2plus['Year'] + 2\n",
    "data_2plus.head()"
   ]
  },
  {
   "cell_type": "code",
   "execution_count": 370,
   "metadata": {},
   "outputs": [],
   "source": [
    "combined_2plus = pd.merge(data_2plus,imdb_db,how='inner',on = ('Title','Year'))"
   ]
  },
  {
   "cell_type": "code",
   "execution_count": 371,
   "metadata": {},
   "outputs": [
    {
     "data": {
      "text/plain": [
       "Title                3\n",
       "Year                 3\n",
       "Metacritic Rating    3\n",
       "Imdb Rating          3\n",
       "dtype: int64"
      ]
     },
     "execution_count": 371,
     "metadata": {},
     "output_type": "execute_result"
    }
   ],
   "source": [
    "combined_2plus.count()"
   ]
  },
  {
   "cell_type": "code",
   "execution_count": 372,
   "metadata": {},
   "outputs": [
    {
     "data": {
      "text/html": [
       "<div>\n",
       "<style scoped>\n",
       "    .dataframe tbody tr th:only-of-type {\n",
       "        vertical-align: middle;\n",
       "    }\n",
       "\n",
       "    .dataframe tbody tr th {\n",
       "        vertical-align: top;\n",
       "    }\n",
       "\n",
       "    .dataframe thead th {\n",
       "        text-align: right;\n",
       "    }\n",
       "</style>\n",
       "<table border=\"1\" class=\"dataframe\">\n",
       "  <thead>\n",
       "    <tr style=\"text-align: right;\">\n",
       "      <th></th>\n",
       "      <th>Title</th>\n",
       "      <th>Year</th>\n",
       "      <th>Metacritic Rating</th>\n",
       "    </tr>\n",
       "  </thead>\n",
       "  <tbody>\n",
       "    <tr>\n",
       "      <th>0</th>\n",
       "      <td>Citizen Kane</td>\n",
       "      <td>1944</td>\n",
       "      <td>100</td>\n",
       "    </tr>\n",
       "    <tr>\n",
       "      <th>1</th>\n",
       "      <td>The Godfather</td>\n",
       "      <td>1975</td>\n",
       "      <td>100</td>\n",
       "    </tr>\n",
       "    <tr>\n",
       "      <th>2</th>\n",
       "      <td>Rear Window</td>\n",
       "      <td>1957</td>\n",
       "      <td>100</td>\n",
       "    </tr>\n",
       "    <tr>\n",
       "      <th>3</th>\n",
       "      <td>Casablanca</td>\n",
       "      <td>1946</td>\n",
       "      <td>100</td>\n",
       "    </tr>\n",
       "    <tr>\n",
       "      <th>4</th>\n",
       "      <td>Boyhood</td>\n",
       "      <td>2017</td>\n",
       "      <td>100</td>\n",
       "    </tr>\n",
       "  </tbody>\n",
       "</table>\n",
       "</div>"
      ],
      "text/plain": [
       "           Title  Year  Metacritic Rating\n",
       "0   Citizen Kane  1944                100\n",
       "1  The Godfather  1975                100\n",
       "2    Rear Window  1957                100\n",
       "3     Casablanca  1946                100\n",
       "4        Boyhood  2017                100"
      ]
     },
     "execution_count": 372,
     "metadata": {},
     "output_type": "execute_result"
    }
   ],
   "source": [
    "data_3plus = data.loc[data['Year'] != 'TBA']\n",
    "data_3plus['Year'] = data_3plus['Year'].astype(int)\n",
    "data_3plus['Year'] = data_3plus['Year'] + 3\n",
    "data_3plus.head()"
   ]
  },
  {
   "cell_type": "code",
   "execution_count": 373,
   "metadata": {},
   "outputs": [],
   "source": [
    "combined_3plus = pd.merge(data_3plus,imdb_db,how='inner',on = ('Title','Year'))"
   ]
  },
  {
   "cell_type": "code",
   "execution_count": 374,
   "metadata": {},
   "outputs": [
    {
     "data": {
      "text/plain": [
       "Title                0\n",
       "Year                 0\n",
       "Metacritic Rating    0\n",
       "Imdb Rating          0\n",
       "dtype: int64"
      ]
     },
     "execution_count": 374,
     "metadata": {},
     "output_type": "execute_result"
    }
   ],
   "source": [
    "combined_3plus.count()"
   ]
  },
  {
   "cell_type": "code",
   "execution_count": 375,
   "metadata": {},
   "outputs": [
    {
     "data": {
      "text/html": [
       "<div>\n",
       "<style scoped>\n",
       "    .dataframe tbody tr th:only-of-type {\n",
       "        vertical-align: middle;\n",
       "    }\n",
       "\n",
       "    .dataframe tbody tr th {\n",
       "        vertical-align: top;\n",
       "    }\n",
       "\n",
       "    .dataframe thead th {\n",
       "        text-align: right;\n",
       "    }\n",
       "</style>\n",
       "<table border=\"1\" class=\"dataframe\">\n",
       "  <thead>\n",
       "    <tr style=\"text-align: right;\">\n",
       "      <th></th>\n",
       "      <th>Title</th>\n",
       "      <th>Year</th>\n",
       "      <th>Metacritic Rating</th>\n",
       "    </tr>\n",
       "  </thead>\n",
       "  <tbody>\n",
       "    <tr>\n",
       "      <th>0</th>\n",
       "      <td>Citizen Kane</td>\n",
       "      <td>1945</td>\n",
       "      <td>100</td>\n",
       "    </tr>\n",
       "    <tr>\n",
       "      <th>1</th>\n",
       "      <td>The Godfather</td>\n",
       "      <td>1976</td>\n",
       "      <td>100</td>\n",
       "    </tr>\n",
       "    <tr>\n",
       "      <th>2</th>\n",
       "      <td>Rear Window</td>\n",
       "      <td>1958</td>\n",
       "      <td>100</td>\n",
       "    </tr>\n",
       "    <tr>\n",
       "      <th>3</th>\n",
       "      <td>Casablanca</td>\n",
       "      <td>1947</td>\n",
       "      <td>100</td>\n",
       "    </tr>\n",
       "    <tr>\n",
       "      <th>4</th>\n",
       "      <td>Boyhood</td>\n",
       "      <td>2018</td>\n",
       "      <td>100</td>\n",
       "    </tr>\n",
       "  </tbody>\n",
       "</table>\n",
       "</div>"
      ],
      "text/plain": [
       "           Title  Year  Metacritic Rating\n",
       "0   Citizen Kane  1945                100\n",
       "1  The Godfather  1976                100\n",
       "2    Rear Window  1958                100\n",
       "3     Casablanca  1947                100\n",
       "4        Boyhood  2018                100"
      ]
     },
     "execution_count": 375,
     "metadata": {},
     "output_type": "execute_result"
    }
   ],
   "source": [
    "data_4plus = data.loc[data['Year'] != 'TBA']\n",
    "data_4plus['Year'] = data_4plus['Year'].astype(int)\n",
    "data_4plus['Year'] = data_4plus['Year'] + 4\n",
    "data_4plus.head()"
   ]
  },
  {
   "cell_type": "code",
   "execution_count": 376,
   "metadata": {},
   "outputs": [],
   "source": [
    "combined_4plus = pd.merge(data_4plus,imdb_db,how='inner',on = ('Title','Year'))"
   ]
  },
  {
   "cell_type": "code",
   "execution_count": 377,
   "metadata": {},
   "outputs": [
    {
     "data": {
      "text/plain": [
       "Title                1\n",
       "Year                 1\n",
       "Metacritic Rating    1\n",
       "Imdb Rating          1\n",
       "dtype: int64"
      ]
     },
     "execution_count": 377,
     "metadata": {},
     "output_type": "execute_result"
    }
   ],
   "source": [
    "combined_4plus.count()"
   ]
  },
  {
   "cell_type": "code",
   "execution_count": 378,
   "metadata": {},
   "outputs": [
    {
     "data": {
      "text/html": [
       "<div>\n",
       "<style scoped>\n",
       "    .dataframe tbody tr th:only-of-type {\n",
       "        vertical-align: middle;\n",
       "    }\n",
       "\n",
       "    .dataframe tbody tr th {\n",
       "        vertical-align: top;\n",
       "    }\n",
       "\n",
       "    .dataframe thead th {\n",
       "        text-align: right;\n",
       "    }\n",
       "</style>\n",
       "<table border=\"1\" class=\"dataframe\">\n",
       "  <thead>\n",
       "    <tr style=\"text-align: right;\">\n",
       "      <th></th>\n",
       "      <th>Title</th>\n",
       "      <th>Year</th>\n",
       "      <th>Metacritic Rating</th>\n",
       "    </tr>\n",
       "  </thead>\n",
       "  <tbody>\n",
       "    <tr>\n",
       "      <th>0</th>\n",
       "      <td>Citizen Kane</td>\n",
       "      <td>1945</td>\n",
       "      <td>100</td>\n",
       "    </tr>\n",
       "    <tr>\n",
       "      <th>1</th>\n",
       "      <td>The Godfather</td>\n",
       "      <td>1976</td>\n",
       "      <td>100</td>\n",
       "    </tr>\n",
       "    <tr>\n",
       "      <th>2</th>\n",
       "      <td>Rear Window</td>\n",
       "      <td>1958</td>\n",
       "      <td>100</td>\n",
       "    </tr>\n",
       "    <tr>\n",
       "      <th>3</th>\n",
       "      <td>Casablanca</td>\n",
       "      <td>1947</td>\n",
       "      <td>100</td>\n",
       "    </tr>\n",
       "    <tr>\n",
       "      <th>4</th>\n",
       "      <td>Boyhood</td>\n",
       "      <td>2018</td>\n",
       "      <td>100</td>\n",
       "    </tr>\n",
       "  </tbody>\n",
       "</table>\n",
       "</div>"
      ],
      "text/plain": [
       "           Title  Year  Metacritic Rating\n",
       "0   Citizen Kane  1945                100\n",
       "1  The Godfather  1976                100\n",
       "2    Rear Window  1958                100\n",
       "3     Casablanca  1947                100\n",
       "4        Boyhood  2018                100"
      ]
     },
     "execution_count": 378,
     "metadata": {},
     "output_type": "execute_result"
    }
   ],
   "source": [
    "data_5plus = data.loc[data['Year'] != 'TBA']\n",
    "data_5plus['Year'] = data_5plus['Year'].astype(int)\n",
    "data_5plus['Year'] = data_5plus['Year'] + 4\n",
    "data_5plus.head()"
   ]
  },
  {
   "cell_type": "code",
   "execution_count": 379,
   "metadata": {},
   "outputs": [],
   "source": [
    "combined_5plus = pd.merge(data_5plus,imdb_db,how='inner',on = ('Title','Year'))"
   ]
  },
  {
   "cell_type": "code",
   "execution_count": 380,
   "metadata": {},
   "outputs": [
    {
     "data": {
      "text/plain": [
       "Title                1\n",
       "Year                 1\n",
       "Metacritic Rating    1\n",
       "Imdb Rating          1\n",
       "dtype: int64"
      ]
     },
     "execution_count": 380,
     "metadata": {},
     "output_type": "execute_result"
    }
   ],
   "source": [
    "combined_5plus.count()"
   ]
  },
  {
   "cell_type": "code",
   "execution_count": 381,
   "metadata": {},
   "outputs": [],
   "source": [
    "data_1minus = data.loc[data['Year'] != 'TBA']\n",
    "data_1minus['Year'] = data_1minus['Year'].astype(int)\n",
    "data_1minus['Year'] = data_1minus['Year'] - 1"
   ]
  },
  {
   "cell_type": "code",
   "execution_count": 382,
   "metadata": {},
   "outputs": [],
   "source": [
    "combined_1minus = pd.merge(data_1minus,imdb_db,how='inner',on = ('Title','Year'))"
   ]
  },
  {
   "cell_type": "code",
   "execution_count": 383,
   "metadata": {},
   "outputs": [
    {
     "data": {
      "text/plain": [
       "Title                97\n",
       "Year                 97\n",
       "Metacritic Rating    97\n",
       "Imdb Rating          97\n",
       "dtype: int64"
      ]
     },
     "execution_count": 383,
     "metadata": {},
     "output_type": "execute_result"
    }
   ],
   "source": [
    "combined_1minus.count()"
   ]
  },
  {
   "cell_type": "code",
   "execution_count": 384,
   "metadata": {},
   "outputs": [],
   "source": [
    "data_2minus = data.loc[data['Year'] != 'TBA']\n",
    "data_2minus['Year'] = data_2minus['Year'].astype(int)\n",
    "data_2minus['Year'] = data_2minus['Year'] - 2"
   ]
  },
  {
   "cell_type": "code",
   "execution_count": 385,
   "metadata": {},
   "outputs": [],
   "source": [
    "combined_2minus = pd.merge(data_2minus,imdb_db,how='inner',on = ('Title','Year'))"
   ]
  },
  {
   "cell_type": "code",
   "execution_count": 386,
   "metadata": {},
   "outputs": [
    {
     "data": {
      "text/plain": [
       "Title                13\n",
       "Year                 13\n",
       "Metacritic Rating    13\n",
       "Imdb Rating          13\n",
       "dtype: int64"
      ]
     },
     "execution_count": 386,
     "metadata": {},
     "output_type": "execute_result"
    }
   ],
   "source": [
    "combined_2minus.count()"
   ]
  },
  {
   "cell_type": "code",
   "execution_count": 387,
   "metadata": {},
   "outputs": [],
   "source": [
    "data_3minus = data.loc[data['Year'] != 'TBA']\n",
    "data_3minus['Year'] = data_3minus['Year'].astype(int)\n",
    "data_3minus['Year'] = data_3minus['Year'] - 3"
   ]
  },
  {
   "cell_type": "code",
   "execution_count": 388,
   "metadata": {},
   "outputs": [],
   "source": [
    "combined_3minus = pd.merge(data_3minus,imdb_db,how='inner',on = ('Title','Year'))"
   ]
  },
  {
   "cell_type": "code",
   "execution_count": 389,
   "metadata": {},
   "outputs": [
    {
     "data": {
      "text/plain": [
       "Title                3\n",
       "Year                 3\n",
       "Metacritic Rating    3\n",
       "Imdb Rating          3\n",
       "dtype: int64"
      ]
     },
     "execution_count": 389,
     "metadata": {},
     "output_type": "execute_result"
    }
   ],
   "source": [
    "combined_3minus.count()"
   ]
  },
  {
   "cell_type": "code",
   "execution_count": 390,
   "metadata": {},
   "outputs": [],
   "source": [
    "data_4minus = data.loc[data['Year'] != 'TBA']\n",
    "data_4minus['Year'] = data_4minus['Year'].astype(int)\n",
    "data_4minus['Year'] = data_4minus['Year'] - 4"
   ]
  },
  {
   "cell_type": "code",
   "execution_count": 391,
   "metadata": {},
   "outputs": [],
   "source": [
    "combined_4minus = pd.merge(data_4minus,imdb_db,how='inner',on = ('Title','Year'))"
   ]
  },
  {
   "cell_type": "code",
   "execution_count": 392,
   "metadata": {},
   "outputs": [
    {
     "data": {
      "text/plain": [
       "Title                9\n",
       "Year                 9\n",
       "Metacritic Rating    9\n",
       "Imdb Rating          9\n",
       "dtype: int64"
      ]
     },
     "execution_count": 392,
     "metadata": {},
     "output_type": "execute_result"
    }
   ],
   "source": [
    "combined_4minus.count()"
   ]
  },
  {
   "cell_type": "code",
   "execution_count": 393,
   "metadata": {},
   "outputs": [],
   "source": [
    "data_5minus = data.loc[data['Year'] != 'TBA']\n",
    "data_5minus['Year'] = data_5minus['Year'].astype(int)\n",
    "data_5minus['Year'] = data_5minus['Year'] - 5"
   ]
  },
  {
   "cell_type": "code",
   "execution_count": 394,
   "metadata": {},
   "outputs": [],
   "source": [
    "combined_5minus = pd.merge(data_5minus,imdb_db,how='inner',on = ('Title','Year'))"
   ]
  },
  {
   "cell_type": "code",
   "execution_count": 395,
   "metadata": {},
   "outputs": [
    {
     "data": {
      "text/plain": [
       "Title                5\n",
       "Year                 5\n",
       "Metacritic Rating    5\n",
       "Imdb Rating          5\n",
       "dtype: int64"
      ]
     },
     "execution_count": 395,
     "metadata": {},
     "output_type": "execute_result"
    }
   ],
   "source": [
    "combined_5minus.count()"
   ]
  },
  {
   "cell_type": "code",
   "execution_count": 398,
   "metadata": {},
   "outputs": [],
   "source": [
    "near_matches = [combined_1plus,combined_2plus,combined_3plus,combined_4plus,combined_5plus,combined_1minus,combined_2minus,combined_3minus,combined_4minus,combined_5minus]"
   ]
  },
  {
   "cell_type": "code",
   "execution_count": 401,
   "metadata": {},
   "outputs": [],
   "source": [
    "near_matches_df = pd.concat(near_matches)\n",
    "near_matches_df.reset_index(drop=True)"
   ]
  },
  {
   "cell_type": "code",
   "execution_count": 405,
   "metadata": {},
   "outputs": [
    {
     "data": {
      "text/html": [
       "<div>\n",
       "<style scoped>\n",
       "    .dataframe tbody tr th:only-of-type {\n",
       "        vertical-align: middle;\n",
       "    }\n",
       "\n",
       "    .dataframe tbody tr th {\n",
       "        vertical-align: top;\n",
       "    }\n",
       "\n",
       "    .dataframe thead th {\n",
       "        text-align: right;\n",
       "    }\n",
       "</style>\n",
       "<table border=\"1\" class=\"dataframe\">\n",
       "  <thead>\n",
       "    <tr style=\"text-align: right;\">\n",
       "      <th></th>\n",
       "      <th>Title</th>\n",
       "      <th>Year</th>\n",
       "      <th>Metacritic Rating</th>\n",
       "      <th>Imdb Rating</th>\n",
       "    </tr>\n",
       "  </thead>\n",
       "  <tbody>\n",
       "    <tr>\n",
       "      <th>0</th>\n",
       "      <td>Boys Don't Cry</td>\n",
       "      <td>2000</td>\n",
       "      <td>90</td>\n",
       "      <td>7.6</td>\n",
       "    </tr>\n",
       "    <tr>\n",
       "      <th>1</th>\n",
       "      <td>The Circle</td>\n",
       "      <td>2002</td>\n",
       "      <td>88</td>\n",
       "      <td>5.0</td>\n",
       "    </tr>\n",
       "    <tr>\n",
       "      <th>2</th>\n",
       "      <td>Together</td>\n",
       "      <td>2002</td>\n",
       "      <td>87</td>\n",
       "      <td>7.4</td>\n",
       "    </tr>\n",
       "    <tr>\n",
       "      <th>3</th>\n",
       "      <td>Taxi Driver</td>\n",
       "      <td>1978</td>\n",
       "      <td>96</td>\n",
       "      <td>5.4</td>\n",
       "    </tr>\n",
       "    <tr>\n",
       "      <th>4</th>\n",
       "      <td>The Circle</td>\n",
       "      <td>2003</td>\n",
       "      <td>88</td>\n",
       "      <td>5.0</td>\n",
       "    </tr>\n",
       "    <tr>\n",
       "      <th>5</th>\n",
       "      <td>The Return</td>\n",
       "      <td>2006</td>\n",
       "      <td>86</td>\n",
       "      <td>4.8</td>\n",
       "    </tr>\n",
       "    <tr>\n",
       "      <th>6</th>\n",
       "      <td>The Circle</td>\n",
       "      <td>2005</td>\n",
       "      <td>88</td>\n",
       "      <td>5.8</td>\n",
       "    </tr>\n",
       "    <tr>\n",
       "      <th>7</th>\n",
       "      <td>The Circle</td>\n",
       "      <td>2005</td>\n",
       "      <td>88</td>\n",
       "      <td>5.8</td>\n",
       "    </tr>\n",
       "    <tr>\n",
       "      <th>8</th>\n",
       "      <td>Casablanca</td>\n",
       "      <td>1942</td>\n",
       "      <td>100</td>\n",
       "      <td>8.5</td>\n",
       "    </tr>\n",
       "    <tr>\n",
       "      <th>9</th>\n",
       "      <td>My Left Foot</td>\n",
       "      <td>1989</td>\n",
       "      <td>99</td>\n",
       "      <td>7.9</td>\n",
       "    </tr>\n",
       "    <tr>\n",
       "      <th>10</th>\n",
       "      <td>Gone with the Wind</td>\n",
       "      <td>1939</td>\n",
       "      <td>99</td>\n",
       "      <td>8.2</td>\n",
       "    </tr>\n",
       "    <tr>\n",
       "      <th>11</th>\n",
       "      <td>Spirited Away</td>\n",
       "      <td>2001</td>\n",
       "      <td>97</td>\n",
       "      <td>8.6</td>\n",
       "    </tr>\n",
       "    <tr>\n",
       "      <th>12</th>\n",
       "      <td>Snow White and the Seven Dwarfs</td>\n",
       "      <td>1937</td>\n",
       "      <td>96</td>\n",
       "      <td>7.6</td>\n",
       "    </tr>\n",
       "    <tr>\n",
       "      <th>13</th>\n",
       "      <td>The Servant</td>\n",
       "      <td>1963</td>\n",
       "      <td>96</td>\n",
       "      <td>7.9</td>\n",
       "    </tr>\n",
       "    <tr>\n",
       "      <th>14</th>\n",
       "      <td>Crumb</td>\n",
       "      <td>1994</td>\n",
       "      <td>95</td>\n",
       "      <td>8.0</td>\n",
       "    </tr>\n",
       "    <tr>\n",
       "      <th>15</th>\n",
       "      <td>Platoon</td>\n",
       "      <td>1986</td>\n",
       "      <td>95</td>\n",
       "      <td>8.1</td>\n",
       "    </tr>\n",
       "    <tr>\n",
       "      <th>16</th>\n",
       "      <td>Werckmeister Harmonies</td>\n",
       "      <td>2000</td>\n",
       "      <td>94</td>\n",
       "      <td>8.2</td>\n",
       "    </tr>\n",
       "    <tr>\n",
       "      <th>17</th>\n",
       "      <td>Atanarjuat: The Fast Runner</td>\n",
       "      <td>2001</td>\n",
       "      <td>94</td>\n",
       "      <td>7.5</td>\n",
       "    </tr>\n",
       "    <tr>\n",
       "      <th>18</th>\n",
       "      <td>After Life</td>\n",
       "      <td>1998</td>\n",
       "      <td>94</td>\n",
       "      <td>7.7</td>\n",
       "    </tr>\n",
       "    <tr>\n",
       "      <th>19</th>\n",
       "      <td>The African Queen</td>\n",
       "      <td>1951</td>\n",
       "      <td>94</td>\n",
       "      <td>7.9</td>\n",
       "    </tr>\n",
       "    <tr>\n",
       "      <th>20</th>\n",
       "      <td>The Ladykillers</td>\n",
       "      <td>1955</td>\n",
       "      <td>94</td>\n",
       "      <td>7.8</td>\n",
       "    </tr>\n",
       "    <tr>\n",
       "      <th>21</th>\n",
       "      <td>The Circus</td>\n",
       "      <td>1928</td>\n",
       "      <td>93</td>\n",
       "      <td>8.1</td>\n",
       "    </tr>\n",
       "    <tr>\n",
       "      <th>22</th>\n",
       "      <td>Force of Evil</td>\n",
       "      <td>1948</td>\n",
       "      <td>92</td>\n",
       "      <td>7.4</td>\n",
       "    </tr>\n",
       "    <tr>\n",
       "      <th>23</th>\n",
       "      <td>It's a Wonderful Life</td>\n",
       "      <td>1946</td>\n",
       "      <td>92</td>\n",
       "      <td>8.6</td>\n",
       "    </tr>\n",
       "    <tr>\n",
       "      <th>24</th>\n",
       "      <td>Deep Red</td>\n",
       "      <td>1975</td>\n",
       "      <td>92</td>\n",
       "      <td>7.7</td>\n",
       "    </tr>\n",
       "    <tr>\n",
       "      <th>25</th>\n",
       "      <td>Y Tu Mamá También</td>\n",
       "      <td>2001</td>\n",
       "      <td>91</td>\n",
       "      <td>7.7</td>\n",
       "    </tr>\n",
       "    <tr>\n",
       "      <th>26</th>\n",
       "      <td>Tulpan</td>\n",
       "      <td>2008</td>\n",
       "      <td>91</td>\n",
       "      <td>7.1</td>\n",
       "    </tr>\n",
       "    <tr>\n",
       "      <th>27</th>\n",
       "      <td>Time Out</td>\n",
       "      <td>2001</td>\n",
       "      <td>91</td>\n",
       "      <td>7.4</td>\n",
       "    </tr>\n",
       "    <tr>\n",
       "      <th>28</th>\n",
       "      <td>Nobody Knows</td>\n",
       "      <td>2004</td>\n",
       "      <td>91</td>\n",
       "      <td>8.1</td>\n",
       "    </tr>\n",
       "    <tr>\n",
       "      <th>29</th>\n",
       "      <td>Life Is Sweet</td>\n",
       "      <td>1990</td>\n",
       "      <td>91</td>\n",
       "      <td>7.5</td>\n",
       "    </tr>\n",
       "    <tr>\n",
       "      <th>...</th>\n",
       "      <td>...</td>\n",
       "      <td>...</td>\n",
       "      <td>...</td>\n",
       "      <td>...</td>\n",
       "    </tr>\n",
       "    <tr>\n",
       "      <th>105</th>\n",
       "      <td>Maborosi</td>\n",
       "      <td>1995</td>\n",
       "      <td>94</td>\n",
       "      <td>7.6</td>\n",
       "    </tr>\n",
       "    <tr>\n",
       "      <th>106</th>\n",
       "      <td>My Voyage to Italy</td>\n",
       "      <td>1999</td>\n",
       "      <td>93</td>\n",
       "      <td>8.3</td>\n",
       "    </tr>\n",
       "    <tr>\n",
       "      <th>107</th>\n",
       "      <td>The Best of Youth</td>\n",
       "      <td>2003</td>\n",
       "      <td>92</td>\n",
       "      <td>8.5</td>\n",
       "    </tr>\n",
       "    <tr>\n",
       "      <th>108</th>\n",
       "      <td>Springtime in a Small Town</td>\n",
       "      <td>2002</td>\n",
       "      <td>89</td>\n",
       "      <td>7.0</td>\n",
       "    </tr>\n",
       "    <tr>\n",
       "      <th>109</th>\n",
       "      <td>Offside</td>\n",
       "      <td>2005</td>\n",
       "      <td>89</td>\n",
       "      <td>6.8</td>\n",
       "    </tr>\n",
       "    <tr>\n",
       "      <th>110</th>\n",
       "      <td>Harakiri</td>\n",
       "      <td>1962</td>\n",
       "      <td>88</td>\n",
       "      <td>8.7</td>\n",
       "    </tr>\n",
       "    <tr>\n",
       "      <th>111</th>\n",
       "      <td>Hero</td>\n",
       "      <td>2002</td>\n",
       "      <td>88</td>\n",
       "      <td>7.9</td>\n",
       "    </tr>\n",
       "    <tr>\n",
       "      <th>112</th>\n",
       "      <td>Distant</td>\n",
       "      <td>2002</td>\n",
       "      <td>88</td>\n",
       "      <td>7.7</td>\n",
       "    </tr>\n",
       "    <tr>\n",
       "      <th>113</th>\n",
       "      <td>Tell No One</td>\n",
       "      <td>2006</td>\n",
       "      <td>86</td>\n",
       "      <td>7.5</td>\n",
       "    </tr>\n",
       "    <tr>\n",
       "      <th>114</th>\n",
       "      <td>Winged Migration</td>\n",
       "      <td>2001</td>\n",
       "      <td>86</td>\n",
       "      <td>8.0</td>\n",
       "    </tr>\n",
       "    <tr>\n",
       "      <th>115</th>\n",
       "      <td>Memories of Murder</td>\n",
       "      <td>2003</td>\n",
       "      <td>86</td>\n",
       "      <td>8.1</td>\n",
       "    </tr>\n",
       "    <tr>\n",
       "      <th>116</th>\n",
       "      <td>The Twilight Samurai</td>\n",
       "      <td>2002</td>\n",
       "      <td>86</td>\n",
       "      <td>8.1</td>\n",
       "    </tr>\n",
       "    <tr>\n",
       "      <th>117</th>\n",
       "      <td>Merci pour le Chocolat</td>\n",
       "      <td>2000</td>\n",
       "      <td>86</td>\n",
       "      <td>6.7</td>\n",
       "    </tr>\n",
       "    <tr>\n",
       "      <th>118</th>\n",
       "      <td>Taxi Driver</td>\n",
       "      <td>1973</td>\n",
       "      <td>96</td>\n",
       "      <td>6.4</td>\n",
       "    </tr>\n",
       "    <tr>\n",
       "      <th>119</th>\n",
       "      <td>Cinderella</td>\n",
       "      <td>1947</td>\n",
       "      <td>88</td>\n",
       "      <td>7.7</td>\n",
       "    </tr>\n",
       "    <tr>\n",
       "      <th>120</th>\n",
       "      <td>Taxidermia</td>\n",
       "      <td>2006</td>\n",
       "      <td>87</td>\n",
       "      <td>7.0</td>\n",
       "    </tr>\n",
       "    <tr>\n",
       "      <th>121</th>\n",
       "      <td>Beauty and the Beast</td>\n",
       "      <td>1987</td>\n",
       "      <td>97</td>\n",
       "      <td>6.2</td>\n",
       "    </tr>\n",
       "    <tr>\n",
       "      <th>122</th>\n",
       "      <td>Almost Famous</td>\n",
       "      <td>1996</td>\n",
       "      <td>93</td>\n",
       "      <td>7.2</td>\n",
       "    </tr>\n",
       "    <tr>\n",
       "      <th>123</th>\n",
       "      <td>El Dorado</td>\n",
       "      <td>1963</td>\n",
       "      <td>89</td>\n",
       "      <td>6.7</td>\n",
       "    </tr>\n",
       "    <tr>\n",
       "      <th>124</th>\n",
       "      <td>Sleeping Beauty</td>\n",
       "      <td>1955</td>\n",
       "      <td>89</td>\n",
       "      <td>7.1</td>\n",
       "    </tr>\n",
       "    <tr>\n",
       "      <th>125</th>\n",
       "      <td>The Sun</td>\n",
       "      <td>2005</td>\n",
       "      <td>88</td>\n",
       "      <td>7.4</td>\n",
       "    </tr>\n",
       "    <tr>\n",
       "      <th>126</th>\n",
       "      <td>Venus</td>\n",
       "      <td>2002</td>\n",
       "      <td>86</td>\n",
       "      <td>7.0</td>\n",
       "    </tr>\n",
       "    <tr>\n",
       "      <th>127</th>\n",
       "      <td>The Illusionist</td>\n",
       "      <td>2006</td>\n",
       "      <td>86</td>\n",
       "      <td>7.6</td>\n",
       "    </tr>\n",
       "    <tr>\n",
       "      <th>128</th>\n",
       "      <td>Sugar</td>\n",
       "      <td>2005</td>\n",
       "      <td>86</td>\n",
       "      <td>5.0</td>\n",
       "    </tr>\n",
       "    <tr>\n",
       "      <th>129</th>\n",
       "      <td>The Maid</td>\n",
       "      <td>2005</td>\n",
       "      <td>86</td>\n",
       "      <td>5.8</td>\n",
       "    </tr>\n",
       "    <tr>\n",
       "      <th>130</th>\n",
       "      <td>Sugar</td>\n",
       "      <td>2004</td>\n",
       "      <td>86</td>\n",
       "      <td>5.5</td>\n",
       "    </tr>\n",
       "    <tr>\n",
       "      <th>131</th>\n",
       "      <td>Sugar</td>\n",
       "      <td>2004</td>\n",
       "      <td>86</td>\n",
       "      <td>5.5</td>\n",
       "    </tr>\n",
       "    <tr>\n",
       "      <th>132</th>\n",
       "      <td>Requiem</td>\n",
       "      <td>2001</td>\n",
       "      <td>86</td>\n",
       "      <td>5.2</td>\n",
       "    </tr>\n",
       "    <tr>\n",
       "      <th>133</th>\n",
       "      <td>Requiem</td>\n",
       "      <td>2001</td>\n",
       "      <td>86</td>\n",
       "      <td>6.7</td>\n",
       "    </tr>\n",
       "    <tr>\n",
       "      <th>134</th>\n",
       "      <td>Requiem</td>\n",
       "      <td>2001</td>\n",
       "      <td>86</td>\n",
       "      <td>5.5</td>\n",
       "    </tr>\n",
       "  </tbody>\n",
       "</table>\n",
       "<p>135 rows × 4 columns</p>\n",
       "</div>"
      ],
      "text/plain": [
       "                               Title  Year  Metacritic Rating  Imdb Rating\n",
       "0                     Boys Don't Cry  2000                 90          7.6\n",
       "1                         The Circle  2002                 88          5.0\n",
       "2                           Together  2002                 87          7.4\n",
       "3                        Taxi Driver  1978                 96          5.4\n",
       "4                         The Circle  2003                 88          5.0\n",
       "5                         The Return  2006                 86          4.8\n",
       "6                         The Circle  2005                 88          5.8\n",
       "7                         The Circle  2005                 88          5.8\n",
       "8                         Casablanca  1942                100          8.5\n",
       "9                       My Left Foot  1989                 99          7.9\n",
       "10                Gone with the Wind  1939                 99          8.2\n",
       "11                     Spirited Away  2001                 97          8.6\n",
       "12   Snow White and the Seven Dwarfs  1937                 96          7.6\n",
       "13                       The Servant  1963                 96          7.9\n",
       "14                             Crumb  1994                 95          8.0\n",
       "15                           Platoon  1986                 95          8.1\n",
       "16            Werckmeister Harmonies  2000                 94          8.2\n",
       "17       Atanarjuat: The Fast Runner  2001                 94          7.5\n",
       "18                        After Life  1998                 94          7.7\n",
       "19                 The African Queen  1951                 94          7.9\n",
       "20                   The Ladykillers  1955                 94          7.8\n",
       "21                        The Circus  1928                 93          8.1\n",
       "22                     Force of Evil  1948                 92          7.4\n",
       "23             It's a Wonderful Life  1946                 92          8.6\n",
       "24                          Deep Red  1975                 92          7.7\n",
       "25                 Y Tu Mamá También  2001                 91          7.7\n",
       "26                            Tulpan  2008                 91          7.1\n",
       "27                          Time Out  2001                 91          7.4\n",
       "28                      Nobody Knows  2004                 91          8.1\n",
       "29                     Life Is Sweet  1990                 91          7.5\n",
       "..                               ...   ...                ...          ...\n",
       "105                         Maborosi  1995                 94          7.6\n",
       "106               My Voyage to Italy  1999                 93          8.3\n",
       "107                The Best of Youth  2003                 92          8.5\n",
       "108       Springtime in a Small Town  2002                 89          7.0\n",
       "109                          Offside  2005                 89          6.8\n",
       "110                         Harakiri  1962                 88          8.7\n",
       "111                             Hero  2002                 88          7.9\n",
       "112                          Distant  2002                 88          7.7\n",
       "113                      Tell No One  2006                 86          7.5\n",
       "114                 Winged Migration  2001                 86          8.0\n",
       "115               Memories of Murder  2003                 86          8.1\n",
       "116             The Twilight Samurai  2002                 86          8.1\n",
       "117           Merci pour le Chocolat  2000                 86          6.7\n",
       "118                      Taxi Driver  1973                 96          6.4\n",
       "119                       Cinderella  1947                 88          7.7\n",
       "120                       Taxidermia  2006                 87          7.0\n",
       "121             Beauty and the Beast  1987                 97          6.2\n",
       "122                    Almost Famous  1996                 93          7.2\n",
       "123                        El Dorado  1963                 89          6.7\n",
       "124                  Sleeping Beauty  1955                 89          7.1\n",
       "125                          The Sun  2005                 88          7.4\n",
       "126                            Venus  2002                 86          7.0\n",
       "127                  The Illusionist  2006                 86          7.6\n",
       "128                            Sugar  2005                 86          5.0\n",
       "129                         The Maid  2005                 86          5.8\n",
       "130                            Sugar  2004                 86          5.5\n",
       "131                            Sugar  2004                 86          5.5\n",
       "132                          Requiem  2001                 86          5.2\n",
       "133                          Requiem  2001                 86          6.7\n",
       "134                          Requiem  2001                 86          5.5\n",
       "\n",
       "[135 rows x 4 columns]"
      ]
     },
     "execution_count": 405,
     "metadata": {},
     "output_type": "execute_result"
    }
   ],
   "source": [
    "near_matches_df.to_csv"
   ]
  },
  {
   "cell_type": "code",
   "execution_count": null,
   "metadata": {},
   "outputs": [],
   "source": []
  }
 ],
 "metadata": {
  "kernelspec": {
   "display_name": "Python [conda env:pythondata] *",
   "language": "python",
   "name": "conda-env-pythondata-py"
  },
  "language_info": {
   "codemirror_mode": {
    "name": "ipython",
    "version": 3
   },
   "file_extension": ".py",
   "mimetype": "text/x-python",
   "name": "python",
   "nbconvert_exporter": "python",
   "pygments_lexer": "ipython3",
   "version": "3.6.8"
  }
 },
 "nbformat": 4,
 "nbformat_minor": 2
}
