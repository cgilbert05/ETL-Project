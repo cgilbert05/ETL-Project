{
 "cells": [
  {
   "cell_type": "code",
   "execution_count": 79,
   "metadata": {},
   "outputs": [],
   "source": [
    "#import dependencies\n",
    "from bs4 import BeautifulSoup as bs\n",
    "import pandas as pd\n",
    "from splinter import Browser"
   ]
  },
  {
   "cell_type": "code",
   "execution_count": 80,
   "metadata": {},
   "outputs": [],
   "source": [
    "#set up splinter to use Chrome\n",
    "executable_path = {'executable_path': 'chromedriver.exe'}\n",
    "browser = Browser('chrome', **executable_path, headless=True)"
   ]
  },
  {
   "cell_type": "code",
   "execution_count": 81,
   "metadata": {},
   "outputs": [],
   "source": [
    "#visit nasa page with splinter\n",
    "url = 'https://www.metacritic.com/browse/movies/score/metascore/all/filtered'\n",
    "browser.visit(url)"
   ]
  },
  {
   "cell_type": "code",
   "execution_count": 82,
   "metadata": {},
   "outputs": [],
   "source": [
    "#use Beautiful Soup to collect first article headline and teaser\n",
    "\n",
    "movie_titles = []\n",
    "\n",
    "\n",
    "for x in range(1, 11):\n",
    "\n",
    "    html = browser.html\n",
    "    soup = bs(html, 'html.parser')\n",
    "    \n",
    "    movie_page = soup.find_all('h3')\n",
    "    \n",
    "    for movie in movie_page:\n",
    "        movie_titles.append(movie.text)\n",
    "        \n",
    "\n",
    "    browser.click_link_by_partial_text('next')\n",
    "    "
   ]
  },
  {
   "cell_type": "code",
   "execution_count": 86,
   "metadata": {},
   "outputs": [
    {
     "data": {
      "text/html": [
       "<div>\n",
       "<style scoped>\n",
       "    .dataframe tbody tr th:only-of-type {\n",
       "        vertical-align: middle;\n",
       "    }\n",
       "\n",
       "    .dataframe tbody tr th {\n",
       "        vertical-align: top;\n",
       "    }\n",
       "\n",
       "    .dataframe thead th {\n",
       "        text-align: right;\n",
       "    }\n",
       "</style>\n",
       "<table border=\"1\" class=\"dataframe\">\n",
       "  <thead>\n",
       "    <tr style=\"text-align: right;\">\n",
       "      <th></th>\n",
       "      <th>0</th>\n",
       "    </tr>\n",
       "  </thead>\n",
       "  <tbody>\n",
       "    <tr>\n",
       "      <th>0</th>\n",
       "      <td>Citizen Kane</td>\n",
       "    </tr>\n",
       "    <tr>\n",
       "      <th>1</th>\n",
       "      <td>The Godfather</td>\n",
       "    </tr>\n",
       "    <tr>\n",
       "      <th>2</th>\n",
       "      <td>Rear Window</td>\n",
       "    </tr>\n",
       "    <tr>\n",
       "      <th>3</th>\n",
       "      <td>Casablanca</td>\n",
       "    </tr>\n",
       "    <tr>\n",
       "      <th>4</th>\n",
       "      <td>Boyhood</td>\n",
       "    </tr>\n",
       "  </tbody>\n",
       "</table>\n",
       "</div>"
      ],
      "text/plain": [
       "               0\n",
       "0   Citizen Kane\n",
       "1  The Godfather\n",
       "2    Rear Window\n",
       "3     Casablanca\n",
       "4        Boyhood"
      ]
     },
     "execution_count": 86,
     "metadata": {},
     "output_type": "execute_result"
    }
   ],
   "source": [
    "movies_df = pd.DataFrame(movie_titles)\n",
    "movies_df.head()"
   ]
  },
  {
   "cell_type": "code",
   "execution_count": 92,
   "metadata": {},
   "outputs": [
    {
     "data": {
      "text/plain": [
       "',0\\r\\n0,Citizen Kane\\r\\n1,The Godfather\\r\\n2,Rear Window\\r\\n3,Casablanca\\r\\n4,Boyhood\\r\\n5,Three Colors: Red\\r\\n6,Vertigo\\r\\n7,Notorious\\r\\n8,Singin\\' in the Rain\\r\\n9,Moonlight\\r\\n10,Pinocchio\\r\\n11,Touch of Evil\\r\\n12,The Treasure of the Sierra Madre\\r\\n13,Pan\\'s Labyrinth\\r\\n14,North by Northwest\\r\\n15,All About Eve\\r\\n16,Hoop Dreams\\r\\n17,My Left Foot\\r\\n18,The Third Man\\r\\n19,Dr. Strangelove or: How I Learned to Stop Worrying and Love the Bomb\\r\\n20,Gone with the Wind\\r\\n21,\"4 Months, 3 Weeks and 2 Days\"\\r\\n22,Some Like It Hot\\r\\n23,Psycho\\r\\n24,American Graffiti\\r\\n25,Dumbo\\r\\n26,Roma\\r\\n27,Ran\\r\\n28,12 Angry Men\\r\\n29,Manchester by the Sea\\r\\n30,Rosemary\\'s Baby\\r\\n31,The Maltese Falcon\\r\\n32,12 Years a Slave\\r\\n33,Nashville\\r\\n34,Ratatouille\\r\\n35,A Streetcar Named Desire\\r\\n36,The Grapes of Wrath\\r\\n37,Mean Streets\\r\\n38,Gravity\\r\\n39,Fantasia\\r\\n40,Spirited Away\\r\\n41,The Wild Bunch\\r\\n42,Beauty and the Beast\\r\\n43,Carol\\r\\n44,Toy Story\\r\\n45,The Social Network\\r\\n46,My Fair Lady\\r\\n47,I Am Not Your Negro\\r\\n48,Double Indemnity\\r\\n49,Killer of Sheep\\r\\n50,Snow White and the Seven Dwarfs\\r\\n51,Anatomy of a Murder\\r\\n52,Zero Dark Thirty\\r\\n53,Portrait of a Lady on Fire\\r\\n54,A Separation\\r\\n55,WALL-E\\r\\n56,Before Midnight\\r\\n57,Dunkirk\\r\\n58,The Man Who Shot Liberty Valance\\r\\n59,The Searchers\\r\\n60,45 Years\\r\\n61,Taxi Driver\\r\\n62,The Manchurian Candidate\\r\\n63,Pulp Fiction\\r\\n64,Mr. Turner\\r\\n65,The Hurt Locker\\r\\n66,The Wild Child\\r\\n67,Amazing Grace\\r\\n68,Shadow of a Doubt\\r\\n69,Inside Out\\r\\n70,Sideways\\r\\n71,The Apartment\\r\\n72,Apocalypse Now\\r\\n73,The Gunfighter\\r\\n74,We Were Here\\r\\n75,Lady Bird\\r\\n76,The Lord of the Rings: The Return of the King\\r\\n77,Carlos\\r\\n78,Faces Places\\r\\n79,Amour\\r\\n80,The Servant\\r\\n81,The Magnificent Ambersons\\r\\n82,Reversal of Fortune\\r\\n83,Shoplifters\\r\\n84,Shoah: Four Sisters\\r\\n85,\"Crouching Tiger, Hidden Dragon\"\\r\\n86,Duck Soup\\r\\n87,Toni Erdmann\\r\\n88,Yi Yi\\r\\n89,Spotlight\\r\\n90,La La Land\\r\\n91,Stagecoach\\r\\n92,Call Me by Your Name\\r\\n93,Inside Llewyn Davis\\r\\n94,Schindler\\'s List\\r\\n95,Sherpa\\r\\n96,There Will Be Blood\\r\\n97,Badlands\\r\\n98,The Last Picture Show\\r\\n99,Sita Sings the Blues\\r\\n100,The Decline of Western Civilization\\r\\n101,Days of Heaven\\r\\n102,Crumb\\r\\n103,The Band Wagon\\r\\n104,One More Time with Feeling\\r\\n105,The Diving Bell and the Butterfly\\r\\n106,Invasion of the Body Snatchers\\r\\n107,The Class\\r\\n108,Platoon\\r\\n109,35 Shots of Rum\\r\\n110,Brother\\'s Keeper\\r\\n111,Chinatown\\r\\n112,The Florida Project\\r\\n113,Timbuktu\\r\\n114,The Souvenir\\r\\n115,Maborosi\\r\\n116,Apocalypse Now Redux\\r\\n117,Annie Hall\\r\\n118,The Lord of the Rings: The Fellowship of the Ring\\r\\n119,Intolerance\\r\\n120,Leviathan\\r\\n121,The Best Years of Our Lives\\r\\n122,Werckmeister Harmonies\\r\\n123,Toy Story 3\\r\\n124,This Is Spinal Tap\\r\\n125,The Look of Silence\\r\\n126,Tower\\r\\n127,The Rider\\r\\n128,Moolaadé\\r\\n129,Atanarjuat: The Fast Runner\\r\\n130,The Lighthouse\\r\\n131,Gavagai\\r\\n132,The Man Who Would Be King\\r\\n133,Breaking Away\\r\\n134,After Life\\r\\n135,Cool Hand Luke\\r\\n136,The African Queen\\r\\n137,The Triplets of Belleville\\r\\n138,The Queen\\r\\n139,All Quiet on the Western Front\\r\\n140,A Bread Factory Part Two: Walk With Me a While\\r\\n141,The Ladykillers\\r\\n142,Young Mr. Lincoln\\r\\n143,Stories We Tell\\r\\n144,A Bread Factory Part One: For the Sake of Gold\\r\\n145,On the Waterfront\\r\\n146,Son of Saul\\r\\n147,Jafar Panahi\\'s Taxi\\r\\n148,Beau Travail\\r\\n149,Do the Right Thing\\r\\n150,Waltz with Bashir\\r\\n151,They Shall Not Grow Old\\r\\n152,EX LIBRIS: The New York Public Library\\r\\n153,Secrets & Lies\\r\\n154,Patton\\r\\n155,The Right Stuff\\r\\n156,Bambi\\r\\n157,Frankenstein\\r\\n158,Bringing Up Baby\\r\\n159,No Country for Old Men\\r\\n160,The Gatekeepers\\r\\n161,Nostalgia for the Light\\r\\n162,Ida\\r\\n163,Saving Private Ryan\\r\\n164,After Hours\\r\\n165,The Favourite\\r\\n166,The Crying Game\\r\\n167,Burning\\r\\n168,13th\\r\\n169,Winter\\'s Bone\\r\\n170,Gett: The Trial of Viviane Amsalem\\r\\n171,I Called Him Morgan\\r\\n172,Close Encounters of the Third Kind\\r\\n173,The Godfather: Part II\\r\\n174,The Hustler\\r\\n175,L.A. Confidential\\r\\n176,Bloody Sunday\\r\\n177,My Voyage to Italy\\r\\n178,Her\\r\\n179,The Sweet Hereafter\\r\\n180,Paths of the Soul\\r\\n181,It\\'s Such a Beautiful Day\\r\\n182,My Perestroika\\r\\n183,This Is Not a Film\\r\\n184,Finding Nemo\\r\\n185,Topsy-Turvy\\r\\n186,Samurai Rebellion\\r\\n187,King Kong\\r\\n188,The Incredibles\\r\\n189,Before Sunset\\r\\n190,Being John Malkovich\\r\\n191,A Prophet\\r\\n192,Hard to Be a God\\r\\n193,Almost Famous\\r\\n194,Phantom Thread\\r\\n195,Cold War\\r\\n196,Big Men\\r\\n197,American Splendor\\r\\n198,Hannah and Her Sisters\\r\\n199,The Circus\\r\\n200,The Act of Killing\\r\\n201,The Tale\\r\\n202,Gosford Park\\r\\n203,Dirty Harry\\r\\n204,The Fits\\r\\n205,United 93\\r\\n206,Mad Max: Fury Road\\r\\n207,Downhill Racer\\r\\n208,Capturing the Friedmans\\r\\n209,The Truman Show\\r\\n210,American Hustle\\r\\n211,Paterson\\r\\n212,Star Wars: Episode IV - A New Hope\\r\\n213,Persepolis\\r\\n214,The Age of Innocence\\r\\n215,Minding the Gap\\r\\n216,Lost in Translation\\r\\n217,The Best of Youth\\r\\n218,The Overnighters\\r\\n219,The Lives of Others\\r\\n220,4 Little Girls\\r\\n221,Two-Lane Blacktop\\r\\n222,House of Flying Daggers\\r\\n223,Searching for Bobby Fischer\\r\\n224,Assault on Precinct 13\\r\\n225,Man on Wire\\r\\n226,Howards End\\r\\n227,Eighth Grade\\r\\n228,Force of Evil\\r\\n229,Still Walking\\r\\n230,Gangs of Wasseypur\\r\\n231,The Last Detail\\r\\n232,Borat: Cultural Learnings of America for Make Benefit Glorious Nation of Kazakhstan\\r\\n233,Barry Lyndon\\r\\n234,Elle\\r\\n235,The Tale of The Princess Kaguya\\r\\n236,Uncertain\\r\\n237,\"Two Days, One Night\"\\r\\n238,National Gallery\\r\\n239,A Star Is Born\\r\\n240,No End in Sight\\r\\n241,It\\'s a Wonderful Life\\r\\n242,Long Day\\'s Journey Into Night\\r\\n243,The Madness of King George\\r\\n244,Phoenix\\r\\n245,One Cut of the Dead\\r\\n246,Goodbye Solo\\r\\n247,Western\\r\\n248,Stop Making Sense\\r\\n249,Deep Red\\r\\n250,Alien\\r\\n251,The Farewell\\r\\n252,Night of the Living Dead\\r\\n253,The Artist\\r\\n254,Raging Bull\\r\\n255,Eternal Sunshine of the Spotless Mind\\r\\n256,The Piano\\r\\n257,Goodfellas\\r\\n258,Dead Souls\\r\\n259,Zama\\r\\n260,Blade Runner\\r\\n261,High Noon\\r\\n262,Letters from Iwo Jima\\r\\n263,Parasite\\r\\n264,Columbus\\r\\n265,The Seventh Continent (1989)\\r\\n266,A Woman Under the Influence\\r\\n267,Once\\r\\n268,The Arbor\\r\\n269,Democrats\\r\\n270,Selma\\r\\n271,Ghost World\\r\\n272,Brazil\\r\\n273,Crime + Punishment\\r\\n274,Y Tu Mamá También\\r\\n275,Paddington 2\\r\\n276,The Little Mermaid\\r\\n277,Capote\\r\\n278,The Death of Stalin\\r\\n279,Strangers on a Train\\r\\n280,Tulpan\\r\\n281,Manuscripts Don\\'t Burn\\r\\n282,In Transit\\r\\n283,Whiplash\\r\\n284,\"Three Billboards Outside Ebbing, Missouri\"\\r\\n285,Quest\\r\\n286,A Film Unfinished\\r\\n287,Things to Come\\r\\n288,The Grand Budapest Hotel\\r\\n289,Winter Sleep\\r\\n290,A Star Is Born\\r\\n291,Citizenfour\\r\\n292,Time Out\\r\\n293,The Blue Angel (re-release)\\r\\n294,Thelma & Louise\\r\\n295,Away from Her\\r\\n296,The Fallen Idol (re-release)\\r\\n297,Blue Is the Warmest Color\\r\\n298,Foxtrot\\r\\n299,Inside Job\\r\\n300,Leave No Trace\\r\\n301,Three Colors: White\\r\\n302,Chicken Run\\r\\n303,The King\\'s Speech\\r\\n304,Hell or High Water\\r\\n305,Up\\r\\n306,Once Upon a Time in... Hollywood\\r\\n307,Shirkers\\r\\n308,Quiz Show\\r\\n309,45365\\r\\n310,Tootsie\\r\\n311,To Kill a Mockingbird\\r\\n312,Aquarius\\r\\n313,Anomalisa\\r\\n314,Apollo 11\\r\\n315,Toy Story 2\\r\\n316,Black Panther\\r\\n317,Brooklyn\\r\\n318,Nobody Knows\\r\\n319,Life Is Sweet\\r\\n320,Mary Poppins\\r\\n321,The Lord of the Rings: The Two Towers\\r\\n322,L\\'Enfant (The Child)\\r\\n323,Sweet Country\\r\\n324,Jane Fonda in Five Acts\\r\\n325,Newtown\\r\\n326,Restless Creature: Wendy Whelan\\r\\n327,Birdman or (The Unexpected Virtue of Ignorance)\\r\\n328,Little Women\\r\\n329,Poetry\\r\\n330,Shakespeare in Love\\r\\n331,Can You Ever Forgive Me?\\r\\n332,It Happened One Night\\r\\n333,The Missing Picture\\r\\n334,\"I Travel Because I Have to, I Come Back Because I Love You\"\\r\\n335,Superman II\\r\\n336,Of Men and War\\r\\n337,The Farthest\\r\\n338,Gomorrah\\r\\n339,To Be and to Have\\r\\n340,Eraserhead\\r\\n341,Medium Cool\\r\\n342,Fire at Sea\\r\\n343,The Fugitive\\r\\n344,About Elly (2009)\\r\\n345,The Bridge on the River Kwai\\r\\n346,Goldfinger\\r\\n347,One False Move\\r\\n348,En el Séptimo Día (On the Seventh Day)\\r\\n349,In Fabric\\r\\n350,Jane\\r\\n351,We Are the Best!\\r\\n352,Spartacus\\r\\n353,Back to the Future\\r\\n354,If Beale Street Could Talk\\r\\n355,My Journey Through French Cinema\\r\\n356,Wallace & Gromit: The Curse of the Were-Rabbit\\r\\n357,The Diary of a Teenage Girl\\r\\n358,Elena\\r\\n359,All Is Lost\\r\\n360,Hereditary\\r\\n361,Ordinary People\\r\\n362,Listen to Me Marlon\\r\\n363,Gideon\\'s Army\\r\\n364,Serpico (re-release)\\r\\n365,Maria Full of Grace\\r\\n366,Fateless\\r\\n367,Happy as Lazzaro\\r\\n368,The Fog of War: Eleven Lessons from the Life of Robert S. McNamara\\r\\n369,Uncle Boonmee Who Can Recall His Past Lives\\r\\n370,The Birds\\r\\n371,Brokeback Mountain\\r\\n372,Cemetery of Splendor\\r\\n373,The Kid with a Bike\\r\\n374,Spider-Man: Into the Spider-Verse\\r\\n375,Harry Potter and the Deathly Hallows: Part 2\\r\\n376,The Wicker Man\\r\\n377,Rebel Without a Cause\\r\\n378,Particle Fever\\r\\n379,Tarnation\\r\\n380,Murderball\\r\\n381,Life Itself\\r\\n382,The Shape of Water\\r\\n383,Shine\\r\\n384,Bisbee \\'17\\r\\n385,Grizzly Man\\r\\n386,Gregory Crewdson: Brief Encounters\\r\\n387,Moneyball\\r\\n388,The Autobiography of Nicolae Ceausescu\\r\\n389,All About My Mother\\r\\n390,The English Patient\\r\\n391,The Great Escape\\r\\n392,The Duke of Burgundy\\r\\n393,My Golden Days\\r\\n394,Love & Friendship\\r\\n395,Force Majeure\\r\\n396,Jaws\\r\\n397,Marooned in Iraq\\r\\n398,Diane\\r\\n399,Russian Ark\\r\\n400,Lincoln\\r\\n401,An Elephant Sitting Still\\r\\n402,Room\\r\\n403,The Tillman Story\\r\\n404,The Wind Will Carry Us\\r\\n405,\"sex, lies, and videotape\"\\r\\n406,Dog Day Afternoon\\r\\n407,To Be or Not to Be\\r\\n408,Like Water for Chocolate\\r\\n409,Nebraska\\r\\n410,Slumdog Millionaire\\r\\n411,Stand Clear of the Closing Doors\\r\\n412,Dreamcatcher\\r\\n413,To Die For\\r\\n414,The Deer Hunter\\r\\n415,Million Dollar Baby\\r\\n416,42: Forty Two Up\\r\\n417,The Straight Story\\r\\n418,Krisha\\r\\n419,Cameraperson\\r\\n420,The Babadook\\r\\n421,Last Days in Vietnam\\r\\n422,Little Men\\r\\n423,The Kids Are All Right\\r\\n424,Boys Don\\'t Cry\\r\\n425,Dead Ringers\\r\\n426,Manakamana\\r\\n427,Mission: Impossible – Fallout\\r\\n428,Rushmore\\r\\n429,Cave of Forgotten Dreams\\r\\n430,My Neighbor Totoro\\r\\n431,King of the Hill\\r\\n432,The Red Turtle\\r\\n433,My Happy Family\\r\\n434,Chasing Coral\\r\\n435,How to Survive a Plague\\r\\n436,Easy Rider\\r\\n437,Loveless\\r\\n438,Ten\\r\\n439,I\\'m Going Home\\r\\n440,In the Bedroom\\r\\n441,A Fantastic Woman\\r\\n442,Barbara\\r\\n443,Of Gods and Men\\r\\n444,Rolling Thunder Revue: A Bob Dylan Story by Martin Scorsese\\r\\n445,Museo\\r\\n446,Nobody\\'s Fool\\r\\n447,Stranger Than Paradise\\r\\n448,Bonnie and Clyde\\r\\n449,Divine Love\\r\\n450,The Beaches of Agnès\\r\\n451,Das Boot\\r\\n452,West Side Story\\r\\n453,Deliver Us from Evil\\r\\n454,Maidan\\r\\n455,Drug War\\r\\n456,The Great Beauty\\r\\n457,The Odd Couple\\r\\n458,The Big Sick\\r\\n459,Argo\\r\\n460,Our Daily Bread\\r\\n461,The Umbrellas of Cherbourg (re-released)\\r\\n462,Talk to Her\\r\\n463,Under the Sand\\r\\n464,Traffic\\r\\n465,The Grifters\\r\\n466,The Master\\r\\n467,The Death of Mr. Lazarescu\\r\\n468,The Wild Pear Tree\\r\\n469,Nausicaä of the Valley of the Wind\\r\\n470,Aladdin\\r\\n471,Los Angeles Plays Itself\\r\\n472,This Is England\\r\\n473,City of Ghosts\\r\\n474,Springtime in a Small Town\\r\\n475,Sweet Sixteen\\r\\n476,The Son\\r\\n477,The Player\\r\\n478,Ponyo\\r\\n479,Black Mother\\r\\n480,Strong Island\\r\\n481,The Interrupters\\r\\n482,Ernest & Célestine\\r\\n483,Only Angels Have Wings\\r\\n484,Baby Driver\\r\\n485,Let the Fire Burn\\r\\n486,American Beauty\\r\\n487,Last Train Home\\r\\n488,Andy Warhol: A Documentary Film\\r\\n489,Persona\\r\\n490,Beasts of the Southern Wild\\r\\n491,The Double Life of Veronique\\r\\n492,Flight of the Red Balloon\\r\\n493,Say Anything...\\r\\n494,Before Night Falls\\r\\n495,Five Easy Pieces\\r\\n496,From Here to Eternity\\r\\n497,The Bourne Ultimatum\\r\\n498,Raiders of the Lost Ark\\r\\n499,Tea with the Dames\\r\\n500,Take Shelter\\r\\n501,The Salesman\\r\\n502,The Pianist\\r\\n503,Children Underground\\r\\n504,You Can Count on Me\\r\\n505,Boogie Nights\\r\\n506,Blow Out\\r\\n507,City of Life and Death\\r\\n508,Song of the Sea\\r\\n509,Amy\\r\\n510,The Edge of Heaven\\r\\n511,The Savages\\r\\n512,Birds of Passage\\r\\n513,Ilo Ilo\\r\\n514,First Reformed\\r\\n515,Lebanon\\r\\n516,The Treasure\\r\\n517,I Am Another You\\r\\n518,Night Will Fall\\r\\n519,The Endurance\\r\\n520,Tangerine\\r\\n521,Exit Through the Gift Shop\\r\\n522,Girlhood\\r\\n523,In the Mood for Love\\r\\n524,Let\\'s Get Lost\\r\\n525,Offside\\r\\n526,The Ornithologist\\r\\n527,El Dorado\\r\\n528,Sleeping Beauty\\r\\n529,Tales of the Grim Sleeper\\r\\n530,Knocked Up\\r\\n531,\"Distant Voices, Still Lives\"\\r\\n532,Turtles Can Fly\\r\\n533,The Departed\\r\\n534,April and the Extraordinary World\\r\\n535,Festival Express\\r\\n536,\"Spring, Summer, Fall, Winter... and Spring\"\\r\\n537,An Education\\r\\n538,Rat Film\\r\\n539,Tinker Tailor Soldier Spy\\r\\n540,Harakiri\\r\\n541,Half Nelson\\r\\n542,Vincere\\r\\n543,Fargo\\r\\n544,Street Fight\\r\\n545,Unforgiven\\r\\n546,Ash Is Purest White\\r\\n547,Love and Diane\\r\\n548,About Schmidt\\r\\n549,Domestic Violence\\r\\n550,Hero\\r\\n551,The Fabulous Baker Boys\\r\\n552,\"Hale County This Morning, This Evening\"\\r\\n553,Neil Young: Heart of Gold\\r\\n554,Mudbound\\r\\n555,My Life as a Zucchini\\r\\n556,The Silence of the Lambs\\r\\n557,Hedwig and the Angry Inch\\r\\n558,The Last Seduction\\r\\n559,The Conversation\\r\\n560,God\\'s Own Country\\r\\n561,Kaili Blues\\r\\n562,The Intruder\\r\\n563,Forbidden Lie$\\r\\n564,Behemoth\\r\\n565,The Sun\\r\\n566,The Past\\r\\n567,Cinderella\\r\\n568,24 Hour Party People\\r\\n569,Atonement\\r\\n570,The Tree of Life\\r\\n571,Alexandra\\r\\n572,Star Wars: Episode VIII - The Last Jedi\\r\\n573,The Host\\r\\n574,The Departure\\r\\n575,Starless Dreams\\r\\n576,Restrepo\\r\\n577,Summer Hours\\r\\n578,Grisbi (re-release)\\r\\n579,Out of Sight\\r\\n580,Women on the Verge of a Nervous Breakdown\\r\\n581,Support the Girls\\r\\n582,The Iron Giant\\r\\n583,Won\\'t You Be My Neighbor?\\r\\n584,Passing Strange\\r\\n585,Meek\\'s Cutoff\\r\\n586,Three Colors: Blue\\r\\n587,The Long Day Closes\\r\\n588,Fruitvale Station\\r\\n589,Carrie\\r\\n590,Watchers of the Sky\\r\\n591,From Russia with Love\\r\\n592,Dawson City: Frozen Time\\r\\n593,Since Otar Left\\r\\n594,The Circle\\r\\n595,Sound and Fury\\r\\n596,Paragraph 175\\r\\n597,Atlantic City\\r\\n598,Holy Motors\\r\\n599,The Work\\r\\n600,Sling Blade\\r\\n601,After the Storm\\r\\n602,A Christmas Tale\\r\\n603,An American in Paris\\r\\n604,Giant\\r\\n605,In the Shadow of the Moon\\r\\n606,The Big Risk\\r\\n607,Children of Men\\r\\n608,Revanche\\r\\n609,The Man Without a Past\\r\\n610,American Movie\\r\\n611,Moonrise Kingdom\\r\\n612,BPM (Beats Per Minute)\\r\\n613,Calle 54\\r\\n614,Horse Money\\r\\n615,Up the Yangtze\\r\\n616,High Hopes\\r\\n617,McQueen\\r\\n618,The Black Stallion\\r\\n619,The Handmaiden\\r\\n620,Booksmart\\r\\n621,Lantana\\r\\n622,Séraphine\\r\\n623,49 Up\\r\\n624,Naked\\r\\n625,Broadcast News\\r\\n626,Harmonium\\r\\n627,Kagemusha\\r\\n628,Milk\\r\\n629,Fireworks Wednesday (2006)\\r\\n630,Heart of a Dog\\r\\n631,Distant\\r\\n632,Far From Heaven\\r\\n633,Lagaan: Once Upon a Time in India\\r\\n634,No Man\\'s Land\\r\\n635,The Remains of the Day\\r\\n636,Prizzi\\'s Honor\\r\\n637,Aferim!\\r\\n638,War Witch\\r\\n639,Toy Story 4\\r\\n640,Darwin\\'s Nightmare\\r\\n641,Aliens\\r\\n642,My Winnipeg\\r\\n643,Mystic River\\r\\n644,\"Oslo, August 31st\"\\r\\n645,Looper\\r\\n646,Graduation\\r\\n647,Kubo and the Two Strings\\r\\n648,The Other Side of Hope\\r\\n649,Momma\\'s Man\\r\\n650,Old Joy\\r\\n651,Kings & Queen\\r\\n652,Shrek\\r\\n653,You Were Never Really Here\\r\\n654,In the Name of the Father\\r\\n655,Ballast\\r\\n656,Volver\\r\\n657,The Square\\r\\n658,Widows\\r\\n659,Love After Love\\r\\n660,The Dark Knight\\r\\n661,A Ghost Story\\r\\n662,Homicide\\r\\n663,Museum Hours\\r\\n664,On Her Shoulders\\r\\n665,The Insider\\r\\n666,The Joy Luck Club\\r\\n667,The Descendants\\r\\n668,First Man\\r\\n669,The Terminator\\r\\n670,Before the Devil Knows You\\'re Dead\\r\\n671,Snowpiercer\\r\\n672,Happy-Go-Lucky\\r\\n673,Lassie\\r\\n674,Under the Shadow\\r\\n675,Get Out\\r\\n676,Dave Chappelle\\'s Block Party\\r\\n677,Victor Victoria\\r\\n678,The Quiet American\\r\\n679,The Pinochet Case\\r\\n680,The Day I Became a Woman\\r\\n681,Sense and Sensibility\\r\\n682,The Climb\\r\\n683,Weiner\\r\\n684,Stalag 17\\r\\n685,Dallas Buyers Club\\r\\n686,Iraq in Fragments\\r\\n687,The Cove\\r\\n688,Rocco and His Brothers (re-release)\\r\\n689,The Last Black Man in San Francisco\\r\\n690,Mutual Appreciation\\r\\n691,Being There\\r\\n692,The Waiting Room\\r\\n693,Stray Dogs\\r\\n694,Transit\\r\\n695,13 Assassins\\r\\n696,Dracula: Pages from a Virgin\\'s Diary\\r\\n697,Together\\r\\n698,Boxing Gym\\r\\n699,Guy and Madeline on a Park Bench\\r\\n700,Crazy Heart\\r\\n701,The Fool\\r\\n702,Everybody Wants Some!!\\r\\n703,De Palma\\r\\n704,A Little Princess\\r\\n705,Custody\\r\\n706,Adaptation.\\r\\n707,Fighter\\r\\n708,The Snapper\\r\\n709,Avatar\\r\\n710,The Forbidden Room\\r\\n711,Network\\r\\n712,The Secret of the Grain\\r\\n713,Trainspotting\\r\\n714,Welcome to the Dollhouse\\r\\n715,The Graduate\\r\\n716,The Bad News Bears\\r\\n717,Fantastic Mr. Fox\\r\\n718,In the Loop\\r\\n719,Bus 174\\r\\n720,Osama\\r\\n721,Amores Perros\\r\\n722,The Gleaners & I\\r\\n723,The Salt of the Earth\\r\\n724,Glory\\r\\n725,The Lion King\\r\\n726,One Flew Over the Cuckoo\\'s Nest\\r\\n727,Office\\r\\n728,Varda by Agnès\\r\\n729,Chop Shop\\r\\n730,Kiki\\'s Delivery Service\\r\\n731,Raising Victor Vargas\\r\\n732,Who Framed Roger Rabbit\\r\\n733,\\'71\\r\\n734,The Guilty\\r\\n735,Blackfish\\r\\n736,The Witch\\r\\n737,Juliet of the Spirits (re-release)\\r\\n738,Corpse Bride\\r\\n739,Project Nim\\r\\n740,The Wind Rises\\r\\n741,Neil Young Trunk Show\\r\\n742,Spider-Man 2\\r\\n743,20 Feet from Stardom\\r\\n744,When We Were Kings\\r\\n745,Kurt Cobain: Montage of Heck\\r\\n746,20th Century Women\\r\\n747,My Name Is Albert Ayler\\r\\n748,Paranoid Park\\r\\n749,Pina\\r\\n750,Animal Kingdom\\r\\n751,La Camioneta: The Journey of One American School Bus\\r\\n752,Bullitt\\r\\n753,Hugo \\r\\n754,Captain Phillips\\r\\n755,The LEGO Movie\\r\\n756,Gloria\\r\\n757,Ixcanul\\r\\n758,The Selfish Giant\\r\\n759,The Day He Arrives\\r\\n760,Hadewijch\\r\\n761,Taxidermia\\r\\n762,Drag Me to Hell\\r\\n763,The King of Kong: A Fistful of Quarters\\r\\n764,Spider\\r\\n765,Moonstruck\\r\\n766,Manhattan\\r\\n767,Seymour: An Introduction\\r\\n768,56 Up\\r\\n769,Triad Election\\r\\n770,Up in the Air\\r\\n771,Roll Red Roll\\r\\n772,Who We Are Now\\r\\n773,Burning Bush\\r\\n774,Enter the Dragon\\r\\n775,Cutie and the Boxer\\r\\n776,U2 3D\\r\\n777,Vera Drake\\r\\n778,Kill Bill: Vol. 2\\r\\n779,The Apostle\\r\\n780,Babe\\r\\n781,Hidden\\r\\n782,Private Life\\r\\n783,BlacKkKlansman\\r\\n784,Lake of Fire\\r\\n785,Red Army\\r\\n786,The Miracle Worker\\r\\n787,Porco Rosso\\r\\n788,The Post\\r\\n789,The Flat\\r\\n790,Mulholland Dr.\\r\\n791,Blind\\r\\n792,The Magdalene Sisters\\r\\n793,Tyson\\r\\n794,101 Dalmatians\\r\\n795,Henry V\\r\\n796,Being 17\\r\\n797,The White Diamond\\r\\n798,Free Solo\\r\\n799,Trouble the Water\\r\\n800,Mustang\\r\\n801,James White\\r\\n802,It Follows\\r\\n803,Don\\'t Think Twice\\r\\n804,The Happiest Day in the Life of Olli Mäki\\r\\n805,Sweeney Todd: The Demon Barber of Fleet Street\\r\\n806,Charade\\r\\n807,Court\\r\\n808,\"20,000 Days on Earth\"\\r\\n809,The Woman Who Left\\r\\n810,We the Animals\\r\\n811,Election\\r\\n812,Creed\\r\\n813,Local Hero\\r\\n814,Monsieur Lazhar\\r\\n815,Ava\\r\\n816,Venus\\r\\n817,Diner\\r\\n818,Nowhere to Hide\\r\\n819,The Second Mother\\r\\n820,These Birds Walk\\r\\n821,Rivers and Tides: Andy Goldsworthy Working with Time\\r\\n822,Carmine Street Guitars\\r\\n823,Ajami\\r\\n824,Wrestle\\r\\n825,Viola\\r\\n826,127 Hours\\r\\n827,Relaxer\\r\\n828,Tell No One\\r\\n829,The Illusionist\\r\\n830,The Deep Blue Sea\\r\\n831,The End of the Tour\\r\\n832,Enron: The Smartest Guys in the Room\\r\\n833,Forrest Gump\\r\\n834,Ornette: Made in America (1985)\\r\\n835,\"Good Bye, Dragon Inn\"\\r\\n836,Safe Conduct\\r\\n837,Leaving Las Vegas\\r\\n838,War for the Planet of the Apes\\r\\n839,Duma\\r\\n840,The Constant Gardener\\r\\n841,Short Term 12\\r\\n842,Parenthood\\r\\n843,Star Wars: Episode V - The Empire Strikes Back\\r\\n844,Our Beloved Month of August\\r\\n845,Sugar\\r\\n846,Marwencol\\r\\n847,The Wind That Shakes the Barley\\r\\n848,Face/Off\\r\\n849,The Lobster\\r\\n850,The Nightmare Before Christmas\\r\\n851,2001: A Space Odyssey\\r\\n852,Pride & Prejudice\\r\\n853,The Squid and the Whale\\r\\n854,Winged Migration\\r\\n855,Quince Tree of the Sun\\r\\n856,The School of Rock\\r\\n857,Life and Nothing More\\r\\n858,Star Trek\\r\\n859,A Quiet Place\\r\\n860,Deliverance\\r\\n861,Frances Ha\\r\\n862,The Namesake\\r\\n863,A Hijacking\\r\\n864,In the Family\\r\\n865,Hunger\\r\\n866,Cold Comfort Farm\\r\\n867,Dear Zachary: A Letter to a Son About His Father\\r\\n868,Anvil! The Story of Anvil\\r\\n869,The Trip\\r\\n870,Harry Potter and the Prisoner of Azkaban\\r\\n871,La Promesse (The Promise)\\r\\n872,Our Time Will Come\\r\\n873,Levitated Mass\\r\\n874,Michael Clayton\\r\\n875,Downfall\\r\\n876,The Spectacular Now\\r\\n877,Let the Right One In\\r\\n878,Rams\\r\\n879,Certified Copy\\r\\n880,The Waldheim Waltz\\r\\n881,The Celebration\\r\\n882,Taxi to the Dark Side\\r\\n883,Nuts!\\r\\n884,The Love Witch\\r\\n885,Marjorie Prime\\r\\n886,Down and Out in Beverly Hills\\r\\n887,Footnote\\r\\n888,Steve Jobs\\r\\n889,Marley\\r\\n890,The White Ribbon\\r\\n891,The Agronomist\\r\\n892,Touching the Void\\r\\n893,Three Kings\\r\\n894,Rachel Getting Married\\r\\n895,Certain Women\\r\\n896,Le Havre\\r\\n897,Araby\\r\\n898,To Be Heard\\r\\n899,Monos\\r\\n900,Chicago\\r\\n901,Embrace of the Serpent\\r\\n902,Under African Skies\\r\\n903,Sieranevada\\r\\n904,Side by Side\\r\\n905,Days of Glory\\r\\n906,My Summer of Love\\r\\n907,Isle of Dogs\\r\\n908,Mountain\\r\\n909,Approaching the Elephant\\r\\n910,\"Flamenco, Flamenco\"\\r\\n911,Archipelago\\r\\n912,Mysteries of Lisbon\\r\\n913,Mademoiselle Chambon\\r\\n914,Burma VJ: Reporter i et lukket land\\r\\n915,Memories of Murder\\r\\n916,The Return\\r\\n917,Lilya 4-Ever\\r\\n918,Read My Lips\\r\\n919,Get Shorty\\r\\n920,Frozen River\\r\\n921,Drugstore Cowboy\\r\\n922,Heal the Living\\r\\n923,Love Is Strange\\r\\n924,The Girl Without Hands\\r\\n925,Blow-Up\\r\\n926,Tess\\r\\n927,The Twilight Samurai\\r\\n928,Concert for George\\r\\n929,Late Marriage\\r\\n930,Waking Life\\r\\n931,One Day in September\\r\\n932,Requiem\\r\\n933,Neruda\\r\\n934,Blancanieves\\r\\n935,Once Upon a Time in Anatolia\\r\\n936,John McEnroe: In the Realm of Perfection\\r\\n937,Stranger by the Lake\\r\\n938,Ten Canoes\\r\\n939,Gilles\\' Wife\\r\\n940,The Maid\\r\\n941,Cowards Bend the Knee or The Blue Hands\\r\\n942,Merci pour le Chocolat\\r\\n943,The Filth and the Fury\\r\\n944,A Simple Plan\\r\\n945,\"Sick: The Life & Death of Bob Flanagan, Supermasochist\"\\r\\n946,Eastern Promises\\r\\n947,Sicario\\r\\n948,George Washington\\r\\n949,Stranded: I\\'ve Come from a Plane That Crashed on the Mountains\\r\\n950,The Hate U Give\\r\\n951,At Berkeley\\r\\n952,Blade Runner 2049\\r\\n953,Step\\r\\n954,Experimenter\\r\\n955,Eden\\r\\n956,The Revolution Will Not Be Televised\\r\\n957,A History of Violence\\r\\n958,A Mighty Wind\\r\\n959,The Damned United\\r\\n960,Georgia\\r\\n961,Western\\r\\n962,Wadjda\\r\\n963,Fresh\\r\\n964,The Levelling\\r\\n965,Arrival\\r\\n966,Juno\\r\\n967,Elena\\r\\n968,Blue Valentine\\r\\n969,Truman\\r\\n970,Master and Commander: The Far Side of the World\\r\\n971,Four Weddings and a Funeral\\r\\n972,The Secret of Kells\\r\\n973,Top Five\\r\\n974,Pete Seeger: The Power of Song\\r\\n975,Closet Monster\\r\\n976,Katyn\\r\\n977,Coming Home\\r\\n978,Living in Oblivion\\r\\n979,Coco\\r\\n980,Locke\\r\\n981,Bridge of Spies\\r\\n982,Driving Miss Daisy\\r\\n983,Shaun the Sheep Movie\\r\\n984,White Material\\r\\n985,The Station Agent\\r\\n986,Foxcatcher\\r\\n987,Dolores\\r\\n988,\"Arabian Nights: Volume 2, The Desolate One\"\\r\\n989,Twinsters\\r\\n990,Beginners\\r\\n991,Bamako\\r\\n992,Autumn Tale\\r\\n993,The China Syndrome\\r\\n994,Bright Star\\r\\n995,The Headless Woman\\r\\n996,Halloween\\r\\n997,Mandy\\r\\n998,Wait Until Dark\\r\\n999,Weekend\\r\\n'"
      ]
     },
     "execution_count": 92,
     "metadata": {},
     "output_type": "execute_result"
    }
   ],
   "source": [
    "movies_df.to_csv(index=Truem)"
   ]
  },
  {
   "cell_type": "code",
   "execution_count": null,
   "metadata": {},
   "outputs": [],
   "source": []
  }
 ],
 "metadata": {
  "kernelspec": {
   "display_name": "Python [conda env:pythondata] *",
   "language": "python",
   "name": "conda-env-pythondata-py"
  },
  "language_info": {
   "codemirror_mode": {
    "name": "ipython",
    "version": 3
   },
   "file_extension": ".py",
   "mimetype": "text/x-python",
   "name": "python",
   "nbconvert_exporter": "python",
   "pygments_lexer": "ipython3",
   "version": "3.6.8"
  }
 },
 "nbformat": 4,
 "nbformat_minor": 2
}
