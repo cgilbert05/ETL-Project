{
 "cells": [
  {
   "cell_type": "code",
   "execution_count": 5,
   "metadata": {},
   "outputs": [],
   "source": [
    "#import dependencies\n",
    "from bs4 import BeautifulSoup as bs\n",
    "import pandas as pd\n",
    "from splinter import Browser"
   ]
  },
  {
   "cell_type": "code",
   "execution_count": null,
   "metadata": {},
   "outputs": [],
   "source": [
    "#set up splinter to use Chrome\n",
    "executable_path = {'executable_path': 'chromedriver.exe'}\n",
    "browser = Browser('chrome', **executable_path, headless=True)"
   ]
  },
  {
   "cell_type": "code",
   "execution_count": null,
   "metadata": {},
   "outputs": [],
   "source": [
    "#visit metacritic page with splinter\n",
    "url = 'https://www.metacritic.com/browse/movies/score/metascore/all/filtered'\n",
    "browser.visit(url)"
   ]
  },
  {
   "cell_type": "code",
   "execution_count": null,
   "metadata": {
    "scrolled": true
   },
   "outputs": [],
   "source": [
    "#use Beautiful Soup to collect titles\n",
    "\n",
    "years = []\n",
    "movie_titles = []\n",
    "metacritic_rating = []\n",
    "\n",
    "for x in range(1, 11):\n",
    "\n",
    "    html = browser.html\n",
    "    soup = bs(html, 'html.parser')\n",
    "    stuff = soup.find_all('div', class_=\"clamp-details\")\n",
    "    print(f' this is all of the results from page({x})')\n",
    "    movie_page = soup.find_all('h3')\n",
    "    perfect_score = soup.find_all('div', class_ = \"metascore_w large movie positive perfect\")\n",
    "    good_score = soup.find_all('div', class_ = \"metascore_w large movie positive\")\n",
    "    \n",
    "    for movie in perfect_score:\n",
    "        metacritic_rating.append(movie.text)\n",
    "    for movie in good_score:\n",
    "        metacritic_rating.append(movie.text)\n",
    "    for x in range(0,100):\n",
    "        \n",
    "        thing = stuff[x].find_all('span')[1].text[-4:]\n",
    "        years.append(thing)\n",
    "        movie_titles.append(movie_page[x].text)\n",
    "        print(movie_page[x].text)\n",
    "        print(thing)\n",
    "        print(metacritic_rating[x])\n",
    "\n",
    "    browser.click_link_by_partial_text('next')\n",
    "    "
   ]
  },
  {
   "cell_type": "code",
   "execution_count": null,
   "metadata": {
    "scrolled": true
   },
   "outputs": [],
   "source": [
    "years_df = pd.DataFrame(years,movie_titles)\n",
    "rating_df = pd.DataFrame(metacritic_rating)"
   ]
  },
  {
   "cell_type": "code",
   "execution_count": null,
   "metadata": {},
   "outputs": [],
   "source": [
    "years_df = years_df.reset_index(drop=False)\n",
    "rating_df = pd.DataFrame(metacritic_rating)"
   ]
  },
  {
   "cell_type": "code",
   "execution_count": null,
   "metadata": {},
   "outputs": [],
   "source": [
    "years_df.head()\n",
    "rating_df.head()"
   ]
  },
  {
   "cell_type": "code",
   "execution_count": null,
   "metadata": {},
   "outputs": [],
   "source": [
    "combined_df = pd.merge(years_df, rating_df, left_index=True, right_index=True)\n",
    "combined_df.head()"
   ]
  },
  {
   "cell_type": "code",
   "execution_count": null,
   "metadata": {
    "scrolled": true
   },
   "outputs": [],
   "source": [
    "combined_df.columns = ['Title','Year','Metacritic Rating']\n",
    "combined_df.head()"
   ]
  },
  {
   "cell_type": "code",
   "execution_count": null,
   "metadata": {},
   "outputs": [],
   "source": [
    "combined_df = combined_df.loc[combined_df['Year'] != 'TBA']"
   ]
  },
  {
   "cell_type": "code",
   "execution_count": null,
   "metadata": {},
   "outputs": [],
   "source": [
    "combined_df.to_csv(index=False, path_or_buf = \"./Year_Released Title and Metacritic Rating.csv\")"
   ]
  },
  {
   "cell_type": "code",
   "execution_count": null,
   "metadata": {},
   "outputs": [],
   "source": []
  }
 ],
 "metadata": {
  "kernelspec": {
   "display_name": "Python [conda env:pythondata] *",
   "language": "python",
   "name": "conda-env-pythondata-py"
  },
  "language_info": {
   "codemirror_mode": {
    "name": "ipython",
    "version": 3
   },
   "file_extension": ".py",
   "mimetype": "text/x-python",
   "name": "python",
   "nbconvert_exporter": "python",
   "pygments_lexer": "ipython3",
   "version": "3.6.8"
  }
 },
 "nbformat": 4,
 "nbformat_minor": 2
}
